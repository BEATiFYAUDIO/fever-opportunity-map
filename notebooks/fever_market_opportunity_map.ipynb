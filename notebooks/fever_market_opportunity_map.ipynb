{
 "cells": [
  {
   "cell_type": "markdown",
   "id": "9aca219b",
   "metadata": {},
   "source": [
    "## Mapping the most popular tourist locations\n",
    "\n",
    "step by step\n",
    "\n",
    "| Step      | Description     |\n",
    "| ------------- | ------------- |\n",
    "| 1 | Import Libraries |\n",
    "| 2 | translate gps |\n",
    "| 3 | generate map and mark locations |\n",
    "| 4 | display map |"
   ]
  },
  {
   "cell_type": "code",
   "execution_count": 1,
   "id": "1da0b6a3",
   "metadata": {},
   "outputs": [],
   "source": [
    "# import libraries\n",
    "\n",
    "# if these don't load try this command: !pip install pandas folium\n",
    "\n",
    "import pandas as pd\n",
    "import re\n",
    "import folium\n"
   ]
  },
  {
   "cell_type": "code",
   "execution_count": 2,
   "id": "0fbb7795",
   "metadata": {},
   "outputs": [],
   "source": [
    "# 50 best locations\n",
    "\n",
    "\n",
    "# Create a list of dictionaries with the provided data\n",
    "locations = [\n",
    "    {\"Name\": \"Niagara Falls\", \"Address\": \"Niagara Falls, ON L2E 6T2\", \"GPS\": \"43.0896° N, 79.0849° W\"},\n",
    "    {\"Name\": \"CN Tower\", \"Address\": \"290 Bremner Blvd, Toronto, ON M5V 3L9\", \"GPS\": \"43.6426° N, 79.3871° W\"},\n",
    "    {\"Name\": \"Royal Ontario Museum (ROM)\", \"Address\": \"100 Queens Park, Toronto, ON M5S 2C6\", \"GPS\": \"43.6677° N, 79.3948° W\"},\n",
    "    {\"Name\": \"Casa Loma\", \"Address\": \"1 Austin Terrace, Toronto, ON M5R 1X8\", \"GPS\": \"43.6764° N, 79.4094° W\"},\n",
    "    {\"Name\": \"Toronto Islands\", \"Address\": \"Toronto, ON M5J 2E6\", \"GPS\": \"43.6270° N, 79.3960° W\"},\n",
    "    {\"Name\": \"Algonquin Provincial Park\", \"Address\": \"1-800-667-1940, Ontario\", \"GPS\": \"45.9991° N, 78.3833° W\"},\n",
    "    {\"Name\": \"Thousand Islands\", \"Address\": \"Thousand Islands Parkway, Ontario\", \"GPS\": \"44.3500° N, 75.8833° W\"},\n",
    "    {\"Name\": \"Parliament Hill\", \"Address\": \"Wellington St, Ottawa, ON K1A 0A9\", \"GPS\": \"45.4235° N, 75.7003° W\"},\n",
    "    {\"Name\": \"Canada’s Wonderland\", \"Address\": \"1 Canada's Wonderland Dr, Vaughan, ON L6A 1S6\", \"GPS\": \"43.8345° N, 79.5402° W\"},\n",
    "    {\"Name\": \"Blue Mountain Resort\", \"Address\": \"108 Jozo Weider Blvd, Blue Mountains, ON L9Y 0V2\", \"GPS\": \"44.5022° N, 80.3122° W\"},\n",
    "    {\"Name\": \"Royal Botanical Gardens\", \"Address\": \"680 Plains Rd W, Burlington, ON L7T 4H4\", \"GPS\": \"43.2550° N, 79.8760° W\"},\n",
    "    {\"Name\": \"Ontario Science Centre\", \"Address\": \"770 Don Mills Rd, North York, ON M3C 1T3\", \"GPS\": \"43.7216° N, 79.3155° W\"},\n",
    "    {\"Name\": \"Art Gallery of Ontario (AGO)\", \"Address\": \"317 Dundas St W, Toronto, ON M5T 1G4\", \"GPS\": \"43.6536° N, 79.3928° W\"},\n",
    "    {\"Name\": \"Stratford Festival Theatre\", \"Address\": \"55 Queen St, Stratford, ON N5A 6V2\", \"GPS\": \"43.3700° N, 80.9820° W\"},\n",
    "    {\"Name\": \"Point Pelee National Park\", \"Address\": \"1118 Point Pelee Dr, Leamington, ON N8H 3V4\", \"GPS\": \"41.9490° N, 82.6820° W\"},\n",
    "    {\"Name\": \"Elora Gorge Conservation Area\", \"Address\": \"319-321 Church St, Elora, ON N0B 1S0\", \"GPS\": \"43.6833° N, 80.4333° W\"},\n",
    "    {\"Name\": \"Sibbald Point Provincial Park\", \"Address\": \"26071 Park Rd, Sutton West, ON L0E 1R0\", \"GPS\": \"44.2000° N, 79.0000° W\"},\n",
    "    {\"Name\": \"Cheltenham Badlands\", \"Address\": \"1736 Olde Base Line Rd, Caledon, ON L7K 2M6\", \"GPS\": \"43.7769° N, 79.9244° W\"},\n",
    "    {\"Name\": \"Arrowhead Provincial Park\", \"Address\": \"451 Arrowhead Park Rd, Huntsville, ON P1H 2J4\", \"GPS\": \"45.9750° N, 79.2040° W\"},\n",
    "    {\"Name\": \"Killarney Provincial Park\", \"Address\": \"1 Killarney Bay Rd, Killarney, ON P0G 1G0\", \"GPS\": \"45.9470° N, 81.5930° W\"},\n",
    "    {\"Name\": \"Bruce Peninsula National Park\", \"Address\": \"28 Cyprus Lake Rd, Tobermory, ON N0H 2R0\", \"GPS\": \"45.2370° N, 81.5360° W\"},\n",
    "    {\"Name\": \"Pukaskwa National Park\", \"Address\": \"1 Hattie Cove Rd, Marathon, ON P0T 2E0\", \"GPS\": \"48.7360° N, 81.8660° W\"},\n",
    "    {\"Name\": \"Lake Superior Provincial Park\", \"Address\": \"1 Highway 17, Wawa, ON P0S 1K0\", \"GPS\": \"47.9700° N, 81.7000° W\"},\n",
    "    {\"Name\": \"Manitoulin Island\", \"Address\": \"Manitoulin Island, ON\", \"GPS\": \"45.8770° N, 81.9070° W\"},\n",
    "    {\"Name\": \"Sandbanks Provincial Park\", \"Address\": \"3004 County Rd 12, Picton, ON K0K 2T0\", \"GPS\": \"43.9500° N, 77.2000° W\"},\n",
    "    {\"Name\": \"Presqu'ile Provincial Park\", \"Address\": \"328 Presqu'ile Pkwy, Brighton, ON K0K 1H0\", \"GPS\": \"43.9333° N, 77.7000° W\"},\n",
    "    {\"Name\": \"Wasaga Beach Provincial Park\", \"Address\": \"170 Beach Dr, Wasaga Beach, ON L9Z 2L3\", \"GPS\": \"44.5000° N, 80.0000° W\"},\n",
    "    {\"Name\": \"High Park\", \"Address\": \"1873 Bloor St W, Toronto, ON M6R 2Z3\", \"GPS\": \"43.6465° N, 79.4637° W\"},\n",
    "    {\"Name\": \"Ripley's Aquarium of Canada\", \"Address\": \"288 Bremner Blvd, Toronto, ON M5V 3L9\", \"GPS\": \"43.6425° N, 79.3860° W\"},\n",
    "    {\"Name\": \"Toronto Zoo\", \"Address\": \"2000 Meadowvale Rd, Toronto, ON M1B 5K7\", \"GPS\": \"43.8170° N, 79.1850° W\"},\n",
    "    {\"Name\": \"Scarborough Bluffs\", \"Address\": \"1 Brimley Rd S, Scarborough, ON M1M 3W3\", \"GPS\": \"43.7100° N, 79.2500° W\"},\n",
    "    {\"Name\": \"Niagara-on-the-Lake\", \"Address\": \"Niagara-on-the-Lake, ON\", \"GPS\": \"43.2550° N, 79.0740° W\"},\n",
    "    {\"Name\": \"Jackson Triggs Winery\", \"Address\": \"2145 Niagara Stone Rd, Niagara-on-the-Lake, ON L0S 1J0\", \"GPS\": \"43.2600° N, 79.0850° W\"},\n",
    "    {\"Name\": \"African Lion Safari\", \"Address\": \"1386 Wilton Grove Rd, Cambridge, ON N3C 4E5\", \"GPS\": \"43.4000° N, 80.3300° W\"},\n",
    "    {\"Name\": \"Upper Canada Village\", \"Address\": \"13750 County Rd 2, Morrisburg, ON K0C 1X0\", \"GPS\": \"44.8890° N, 75.5190° W\"},\n",
    "    {\"Name\": \"Fort Henry National Historic Site\", \"Address\": \"1 Fort Henry Dr, Kingston, ON K7K 5A7\", \"GPS\": \"44.2411° N, 76.4821° W\"},\n",
    "    {\"Name\": \"Dundurn Castle\", \"Address\": \"610 York Blvd, Hamilton, ON L8R 3H1\", \"GPS\": \"43.2565° N, 79.8711° W\"},\n",
    "    {\"Name\": \"Royal Canadian Henley Rowing Course\", \"Address\": \"400 Martindale Rd, St. Catharines, ON L2N 2N4\", \"GPS\": \"43.1590° N, 79.2470° W\"},\n",
    "    {\"Name\": \"Ball’s Falls Conservation Area\", \"Address\": \"3295 Sixth Ave, Jordan, ON L0R 1S0\", \"GPS\": \"43.1470° N, 79.2630° W\"},\n",
    "    {\"Name\": \"Beaver Valley Ski Club\", \"Address\": \"176 Beaver Valley Rd, Flesherton, ON N0C 1E0\", \"GPS\": \"44.4160° N, 80.5330° W\"},\n",
    "    {\"Name\": \"Canadian Canoe Museum\", \"Address\": \"910 Victoria St N, Peterborough, ON K9H 7L3\", \"GPS\": \"44.3090° N, 78.3290° W\"},\n",
    "    {\"Name\": \"Toronto Harbourfront Centre\", \"Address\": \"235 Queens Quay W, Toronto, ON M5J 2G8\", \"GPS\": \"43.6370° N, 79.3810° W\"},\n",
    "    {\"Name\": \"Muskoka Lakes\", \"Address\": \"Muskoka, ON\", \"GPS\": \"45.3380° N, 79.3800° W\"},\n",
    "    {\"Name\": \"Scenic Caves Nature Adventures\", \"Address\": \"1912 Scenic Caves Rd, Blue Mountains, ON L9Y 0T2\", \"GPS\": \"44.5110° N, 80.3210° W\"},\n",
    "    {\"Name\": \"Hockley Valley Resort\", \"Address\": \"793522 Mono 3rd Line, Mono, ON L9W 6K1\", \"GPS\": \"44.0340° N, 79.8910° W\"},\n",
    "    {\"Name\": \"Tom Thomson Art Gallery\", \"Address\": \"1250 Hume St, Owen Sound, ON N4K 3N9\", \"GPS\": \"44.5710° N, 80.9360° W\"},\n",
    "    {\"Name\": \"Big Bay Point Lighthouse\", \"Address\": \"1 Big Bay Point Rd, Midland, ON L4R 4K4\", \"GPS\": \"44.7410° N, 79.8880° W\"},\n",
    "    {\"Name\": \"MacDonald Stewart Art Centre\", \"Address\": \"63 Church St, Guelph, ON N1H 4B2\", \"GPS\": \"43.5470° N, 80.2490° W\"},\n",
    "    {\"Name\": \"Fort Wellington National Historic Site\", \"Address\": \"12 Wellington St, Prescott, ON K0E 1T0\", \"GPS\": \"44.7100° N, 75.5360° W\"},\n",
    "    {\"Name\": \"Royal Ontario Museum Special Exhibits\", \"Address\": \"100 Queens Park, Toronto, ON M5S 2C6\", \"GPS\": \"43.6677° N, 79.3948° W\"}\n",
    "]\n",
    "\n",
    "df = pd.DataFrame(locations)"
   ]
  },
  {
   "cell_type": "code",
   "execution_count": 3,
   "id": "e333e724",
   "metadata": {},
   "outputs": [],
   "source": [
    "# translate gps into a format folium understands: decimal digits for lat/long\n",
    "\n",
    "def parse_gps(gps_str):\n",
    "    \"\"\"Convert '43.0896° N, 79.0849° W' to (lat, lon) floats.\"\"\"\n",
    "    match = re.search(r'([0-9.]+)\\s*°\\s*([NS]),\\s*([0-9.]+)\\s*°\\s*([EW])', gps_str)\n",
    "    if not match:\n",
    "        return None, None\n",
    "    lat = float(match.group(1))\n",
    "    if match.group(2).upper() == \"S\":\n",
    "        lat = -lat\n",
    "    lon = float(match.group(3))\n",
    "    if match.group(4).upper() == \"W\":\n",
    "        lon = -lon\n",
    "    return lat, lon\n",
    "\n",
    "# apply the above function towards our dataset:\n",
    "df[['Latitude', 'Longitude']] = df['GPS'].apply(lambda g: pd.Series(parse_gps(g)))\n"
   ]
  },
  {
   "cell_type": "code",
   "execution_count": 4,
   "id": "c6621c4e",
   "metadata": {},
   "outputs": [],
   "source": [
    "# generate the map\n",
    "\n",
    "# find the middle point of all your points using mean or average\n",
    "# start with a zoom of 6\n",
    "\n",
    "center_lat = df['Latitude'].mean()\n",
    "center_lon = df['Longitude'].mean()\n",
    "m = folium.Map(location=[center_lat, center_lon], zoom_start=6)\n",
    "\n",
    "# loop through the data and add a marker for each location:\n",
    "\n",
    "# --- Add markers ---\n",
    "for _, row in df.iterrows():\n",
    "    if pd.notnull(row['Latitude']) and pd.notnull(row['Longitude']):\n",
    "    # if statement checks if both latitude/longitude exist\n",
    "        folium.Marker(\n",
    "            location=[row['Latitude'], row['Longitude']],\n",
    "            popup=f\"<b>{row['Name']}</b><br>{row['Address']}\",\n",
    "            tooltip=row['Name']\n",
    "            # adds the point to map\n",
    "        ).add_to(m)"
   ]
  },
  {
   "cell_type": "code",
   "execution_count": 5,
   "id": "80ed165e",
   "metadata": {},
   "outputs": [
    {
     "name": "stdout",
     "output_type": "stream",
     "text": [
      "Map saved as Coolest_Locations.html\n"
     ]
    }
   ],
   "source": [
    "# --- Save to file ---\n",
    "m.save(\"Coolest_Locations.html\")\n",
    "print(\"Map saved as Coolest_Locations.html\")"
   ]
  },
  {
   "cell_type": "code",
   "execution_count": 6,
   "id": "3bfb3e11",
   "metadata": {},
   "outputs": [
    {
     "name": "stdout",
     "output_type": "stream",
     "text": [
      "C:\\Users\\Abdullah\\git\\shaka\\shaka_Mapper\n"
     ]
    }
   ],
   "source": [
    "import os\n",
    "print(os.getcwd())"
   ]
  },
  {
   "cell_type": "code",
   "execution_count": 1,
   "id": "a993a60d",
   "metadata": {},
   "outputs": [
    {
     "name": "stdout",
     "output_type": "stream",
     "text": [
      "Now working in: C:\\Users\\PC\\Documents\\Fever\\fever\n"
     ]
    },
    {
     "ename": "NameError",
     "evalue": "name 'm' is not defined",
     "output_type": "error",
     "traceback": [
      "\u001b[31m---------------------------------------------------------------------------\u001b[39m",
      "\u001b[31mNameError\u001b[39m                                 Traceback (most recent call last)",
      "\u001b[36mCell\u001b[39m\u001b[36m \u001b[39m\u001b[32mIn[1]\u001b[39m\u001b[32m, line 4\u001b[39m\n\u001b[32m      2\u001b[39m os.chdir(\u001b[33mr\u001b[39m\u001b[33m\"\u001b[39m\u001b[33mC:\u001b[39m\u001b[33m\\\u001b[39m\u001b[33mUsers\u001b[39m\u001b[33m\\\u001b[39m\u001b[33mPC\u001b[39m\u001b[33m\\\u001b[39m\u001b[33mDocuments\u001b[39m\u001b[33m\\\u001b[39m\u001b[33mFever\u001b[39m\u001b[33m\\\u001b[39m\u001b[33mfever\u001b[39m\u001b[33m\"\u001b[39m)\n\u001b[32m      3\u001b[39m \u001b[38;5;28mprint\u001b[39m(\u001b[33m\"\u001b[39m\u001b[33mNow working in:\u001b[39m\u001b[33m\"\u001b[39m, os.getcwd())\n\u001b[32m----> \u001b[39m\u001b[32m4\u001b[39m \u001b[43mm\u001b[49m.save(\u001b[33m\"\u001b[39m\u001b[33mCoolest_Locations.html\u001b[39m\u001b[33m\"\u001b[39m)\n",
      "\u001b[31mNameError\u001b[39m: name 'm' is not defined"
     ]
    }
   ],
   "source": [
    "import os\n",
    "os.chdir(r\"C:\\Users\\PC\\Documents\\Fever\\fever\")\n",
    "print(\"Now working in:\", os.getcwd())\n",
    "m.save(\"Coolest_Locations.html\")\n",
    "\n"
   ]
  },
  {
   "cell_type": "code",
   "execution_count": null,
   "id": "596d4a41-5090-46a2-a831-0c0652728cb2",
   "metadata": {},
   "outputs": [],
   "source": []
  },
  {
   "cell_type": "code",
   "execution_count": null,
   "id": "1a0e8b55-5fc0-4e2d-98cb-a7412787944c",
   "metadata": {},
   "outputs": [],
   "source": []
  },
  {
   "cell_type": "code",
   "execution_count": null,
   "id": "8d2f4262",
   "metadata": {},
   "outputs": [],
   "source": []
  }
 ],
 "metadata": {
  "kernelspec": {
   "display_name": "Python 3 (ipykernel)",
   "language": "python",
   "name": "python3"
  },
  "language_info": {
   "codemirror_mode": {
    "name": "ipython",
    "version": 3
   },
   "file_extension": ".py",
   "mimetype": "text/x-python",
   "name": "python",
   "nbconvert_exporter": "python",
   "pygments_lexer": "ipython3",
   "version": "3.13.9"
  }
 },
 "nbformat": 4,
 "nbformat_minor": 5
}
